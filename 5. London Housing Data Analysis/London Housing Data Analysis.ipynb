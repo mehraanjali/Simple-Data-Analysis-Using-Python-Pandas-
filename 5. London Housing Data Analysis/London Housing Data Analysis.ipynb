{
 "cells": [
  {
   "cell_type": "code",
   "execution_count": 23,
   "id": "08a35d4c",
   "metadata": {},
   "outputs": [],
   "source": [
    "import pandas as pd"
   ]
  },
  {
   "cell_type": "code",
   "execution_count": 2,
   "id": "b09c2092",
   "metadata": {},
   "outputs": [],
   "source": [
    "df = pd.read_csv('London Housing Dataset.csv')\n",
    "df"
   ]
  },
  {
   "cell_type": "code",
   "execution_count": 3,
   "id": "30229133",
   "metadata": {},
   "outputs": [],
   "source": [
    "df.count()"
   ]
  },
  {
   "cell_type": "code",
   "execution_count": 4,
   "id": "7ea3bede",
   "metadata": {},
   "outputs": [],
   "source": [
    "df.isnull().sum()"
   ]
  },
  {
   "cell_type": "markdown",
   "id": "35d236f6",
   "metadata": {},
   "source": [
    "#### Visualization of missing values"
   ]
  },
  {
   "cell_type": "code",
   "execution_count": 5,
   "id": "0069e0d1",
   "metadata": {},
   "outputs": [],
   "source": [
    "import seaborn as sns\n",
    "import matplotlib.pyplot as plt"
   ]
  },
  {
   "cell_type": "code",
   "execution_count": 6,
   "id": "60738f2d",
   "metadata": {},
   "outputs": [],
   "source": [
    "plt.figure(figsize=(5,4))\n",
    "sns.heatmap(df.isnull())\n",
    "plt.show()"
   ]
  },
  {
   "cell_type": "markdown",
   "id": "c57dea65",
   "metadata": {},
   "source": [
    "#### (A) Convert the Datatype of 'Date' column to Date-Time format."
   ]
  },
  {
   "cell_type": "code",
   "execution_count": 7,
   "id": "83425a35",
   "metadata": {},
   "outputs": [],
   "source": [
    "df.dtypes"
   ]
  },
  {
   "cell_type": "code",
   "execution_count": 8,
   "id": "281c7e12",
   "metadata": {},
   "outputs": [],
   "source": [
    "df.date = pd.to_datetime(df.date)\n",
    "df.dtypes"
   ]
  },
  {
   "cell_type": "markdown",
   "id": "bf2a8a56",
   "metadata": {},
   "source": [
    "#### (B.1) Add a new column \"year\" in the dataframe, which contains years only."
   ]
  },
  {
   "cell_type": "code",
   "execution_count": 9,
   "id": "1f87ba36",
   "metadata": {},
   "outputs": [],
   "source": [
    "df['year'] = df.date.dt.year\n",
    "df"
   ]
  },
  {
   "cell_type": "markdown",
   "id": "705b2e1c",
   "metadata": {},
   "source": [
    "#### (B.2) Add a new column \"month\" as 2nd column in the dataframe, which contains month only."
   ]
  },
  {
   "cell_type": "markdown",
   "id": "1de295e3",
   "metadata": {},
   "source": [
    "##### We can directly create col as well as position it with :\n",
    "\n",
    "##### df.insert(1,'month',df.date.dt.month)\n",
    "##### df\n",
    "\n",
    "### Or"
   ]
  },
  {
   "cell_type": "code",
   "execution_count": 10,
   "id": "fa5b34f9",
   "metadata": {},
   "outputs": [],
   "source": [
    "df['month'] = df.date.dt.month\n",
    "df"
   ]
  },
  {
   "cell_type": "markdown",
   "id": "e3e949e5",
   "metadata": {},
   "source": [
    "##### Get the index of the 'month' column\n",
    "month_index = df.columns.get_loc('month')\n",
    "\n",
    "##### Specify the position where you want to insert the 'month' column\n",
    "insert_position = 1  # 1 corresponds to the 2nd position (0-based index)\n",
    "\n",
    "##### Use the insert function to move the 'month' column to the specified position\n",
    "df.insert(insert_position, 'month', df.pop('month'))"
   ]
  },
  {
   "cell_type": "code",
   "execution_count": 11,
   "id": "45e40e19",
   "metadata": {},
   "outputs": [],
   "source": [
    "df.insert(1,'month',df.pop('month'))\n",
    "df.head()"
   ]
  },
  {
   "cell_type": "code",
   "execution_count": 12,
   "id": "41d18d62",
   "metadata": {},
   "outputs": [],
   "source": [
    "df.insert(2,'year',df.pop('year'))\n",
    "df.head()"
   ]
  },
  {
   "cell_type": "markdown",
   "id": "95b7356c",
   "metadata": {},
   "source": [
    "#### (C) Remove the columns 'year' and 'month' from the dataframe."
   ]
  },
  {
   "cell_type": "code",
   "execution_count": 13,
   "id": "d4be2e42",
   "metadata": {},
   "outputs": [],
   "source": [
    "df.drop( ['month', 'year'], axis=1, inplace = True)\n",
    "df.head()"
   ]
  },
  {
   "cell_type": "markdown",
   "id": "7259da08",
   "metadata": {},
   "source": [
    "#### (D) Show all the records where 'No. of Crimes' is 0. And, how many such records are there?"
   ]
  },
  {
   "cell_type": "code",
   "execution_count": 14,
   "id": "9272616e",
   "metadata": {},
   "outputs": [],
   "source": [
    "df[df['no_of_crimes'] == 0]"
   ]
  },
  {
   "cell_type": "code",
   "execution_count": 15,
   "id": "9895b288",
   "metadata": {},
   "outputs": [],
   "source": [
    "len(df[df['no_of_crimes'] == 0])"
   ]
  },
  {
   "cell_type": "markdown",
   "id": "c52bfda9",
   "metadata": {},
   "source": [
    "#### (E) What is the maximum & minimum 'average_price' per year in england?"
   ]
  },
  {
   "cell_type": "code",
   "execution_count": 16,
   "id": "fef5ed0a",
   "metadata": {},
   "outputs": [],
   "source": [
    "df['year'] = df.date.dt.year"
   ]
  },
  {
   "cell_type": "code",
   "execution_count": 17,
   "id": "a7e8fb88",
   "metadata": {},
   "outputs": [],
   "source": [
    "df1 = df[df.area == 'england']"
   ]
  },
  {
   "cell_type": "code",
   "execution_count": 18,
   "id": "54e07a42",
   "metadata": {},
   "outputs": [],
   "source": [
    "df1.groupby('year')['average_price'].max()"
   ]
  },
  {
   "cell_type": "code",
   "execution_count": 19,
   "id": "123be54e",
   "metadata": {},
   "outputs": [],
   "source": [
    "df1.groupby('year')['average_price'].min()"
   ]
  },
  {
   "cell_type": "markdown",
   "id": "3cc4b44c",
   "metadata": {},
   "source": [
    "#### (F) What is the Maximum & Minimum No. of Crimes recorded per area?"
   ]
  },
  {
   "cell_type": "code",
   "execution_count": 20,
   "id": "d5ab1c83",
   "metadata": {},
   "outputs": [],
   "source": [
    "df.groupby('area')['no_of_crimes'].max()"
   ]
  },
  {
   "cell_type": "code",
   "execution_count": 21,
   "id": "2f29c4db",
   "metadata": {},
   "outputs": [],
   "source": [
    "df.groupby('area')['no_of_crimes'].min()"
   ]
  },
  {
   "cell_type": "markdown",
   "id": "3bca17bc",
   "metadata": {},
   "source": [
    "#### (G) Show the total count of records of each area, where average price is less than 100000."
   ]
  },
  {
   "cell_type": "code",
   "execution_count": 22,
   "id": "d0b0a39a",
   "metadata": {},
   "outputs": [],
   "source": [
    "df[df.average_price < 100000].area.value_counts()"
   ]
  },
  {
   "cell_type": "code",
   "execution_count": null,
   "id": "d209ec85",
   "metadata": {},
   "outputs": [],
   "source": []
  },
  {
   "cell_type": "code",
   "execution_count": null,
   "id": "59217877",
   "metadata": {},
   "outputs": [],
   "source": []
  }
 ],
 "metadata": {
  "kernelspec": {
   "display_name": "Python 3 (ipykernel)",
   "language": "python",
   "name": "python3"
  },
  "language_info": {
   "codemirror_mode": {
    "name": "ipython",
    "version": 3
   },
   "file_extension": ".py",
   "mimetype": "text/x-python",
   "name": "python",
   "nbconvert_exporter": "python",
   "pygments_lexer": "ipython3",
   "version": "3.10.9"
  }
 },
 "nbformat": 4,
 "nbformat_minor": 5
}
